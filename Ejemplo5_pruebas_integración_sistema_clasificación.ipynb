{
 "cells": [
  {
   "cell_type": "code",
   "execution_count": 2,
   "id": "facd2a84",
   "metadata": {},
   "outputs": [],
   "source": [
    "import unittest\n",
    "import numpy as np\n",
    "from sklearn.preprocessing import StandardScaler"
   ]
  },
  {
   "cell_type": "code",
   "execution_count": 3,
   "id": "85816b4e",
   "metadata": {},
   "outputs": [],
   "source": [
    "def calculate_average(numbers):\n",
    "    return sum(numbers)/len(numbers)\n",
    "\n",
    "def calculate_std(numbers):\n",
    "    mean_ = calculate_average(numbers)\n",
    "    sq = [(x - mean_)**2 for x in numbers] \n",
    "    variance_ = calculate_average(sq)\n",
    "    return np.sqrt(variance_)\n",
    "\n",
    "def normalize_numbers(numbers):\n",
    "    avg_ = calculate_average(numbers)\n",
    "    std_ = calculate_std(numbers)\n",
    "    return [(x - avg_)/std_ for x in numbers]"
   ]
  },
  {
   "cell_type": "markdown",
   "id": "d014093d",
   "metadata": {},
   "source": [
    "## Promedio"
   ]
  },
  {
   "cell_type": "code",
   "execution_count": 4,
   "id": "e1d6c6d7",
   "metadata": {},
   "outputs": [
    {
     "data": {
      "text/plain": [
       "2.0"
      ]
     },
     "execution_count": 4,
     "metadata": {},
     "output_type": "execute_result"
    }
   ],
   "source": [
    "calculate_average([1,2,3])"
   ]
  },
  {
   "cell_type": "code",
   "execution_count": 5,
   "id": "463dec1a",
   "metadata": {},
   "outputs": [
    {
     "data": {
      "text/plain": [
       "2.0"
      ]
     },
     "execution_count": 5,
     "metadata": {},
     "output_type": "execute_result"
    }
   ],
   "source": [
    "np.mean([1,2,3])"
   ]
  },
  {
   "cell_type": "markdown",
   "id": "ceb6c1cb",
   "metadata": {},
   "source": [
    "## Desviación estándar"
   ]
  },
  {
   "cell_type": "code",
   "execution_count": 6,
   "id": "64cd24b0",
   "metadata": {},
   "outputs": [
    {
     "data": {
      "text/plain": [
       "0.816496580927726"
      ]
     },
     "execution_count": 6,
     "metadata": {},
     "output_type": "execute_result"
    }
   ],
   "source": [
    "calculate_std([1,2,3])"
   ]
  },
  {
   "cell_type": "code",
   "execution_count": 7,
   "id": "af98c482",
   "metadata": {},
   "outputs": [
    {
     "data": {
      "text/plain": [
       "0.816496580927726"
      ]
     },
     "execution_count": 7,
     "metadata": {},
     "output_type": "execute_result"
    }
   ],
   "source": [
    "np.std([1,2,3])"
   ]
  },
  {
   "cell_type": "markdown",
   "id": "8c08d49f",
   "metadata": {},
   "source": [
    "## Normalización"
   ]
  },
  {
   "cell_type": "code",
   "execution_count": 8,
   "id": "580f347e",
   "metadata": {},
   "outputs": [
    {
     "data": {
      "text/plain": [
       "StandardScaler()"
      ]
     },
     "execution_count": 8,
     "metadata": {},
     "output_type": "execute_result"
    }
   ],
   "source": [
    "Z1 = StandardScaler()\n",
    "x = np.array([10,20,30]).reshape(-1, 1)\n",
    "Z1.fit(x)"
   ]
  },
  {
   "cell_type": "code",
   "execution_count": 9,
   "id": "b15721a9",
   "metadata": {},
   "outputs": [
    {
     "data": {
      "text/plain": [
       "array([[-1.22474487],\n",
       "       [ 0.        ],\n",
       "       [ 1.22474487]])"
      ]
     },
     "execution_count": 9,
     "metadata": {},
     "output_type": "execute_result"
    }
   ],
   "source": [
    "Z1.fit_transform(x)"
   ]
  },
  {
   "cell_type": "code",
   "execution_count": 10,
   "id": "fb83f20e",
   "metadata": {},
   "outputs": [
    {
     "data": {
      "text/plain": [
       "array([[-1.22474487],\n",
       "       [ 0.        ],\n",
       "       [ 1.22474487]])"
      ]
     },
     "execution_count": 10,
     "metadata": {},
     "output_type": "execute_result"
    }
   ],
   "source": [
    "Z1.fit_transform(x)"
   ]
  },
  {
   "cell_type": "code",
   "execution_count": 11,
   "id": "52a5b1ea",
   "metadata": {},
   "outputs": [
    {
     "data": {
      "text/plain": [
       "[-1.224744871391589, 0.0, 1.224744871391589]"
      ]
     },
     "execution_count": 11,
     "metadata": {},
     "output_type": "execute_result"
    }
   ],
   "source": [
    "[float(x) for x in Z1.fit_transform(x)]"
   ]
  },
  {
   "cell_type": "code",
   "execution_count": 12,
   "id": "7b649655",
   "metadata": {},
   "outputs": [
    {
     "data": {
      "text/plain": [
       "[-1.224744871391589, 0.0, 1.224744871391589]"
      ]
     },
     "execution_count": 12,
     "metadata": {},
     "output_type": "execute_result"
    }
   ],
   "source": [
    "normalize_numbers([10,20,30])"
   ]
  },
  {
   "cell_type": "code",
   "execution_count": 13,
   "id": "fd377c64",
   "metadata": {},
   "outputs": [],
   "source": [
    "nm = normalize_numbers([10,20,30])\n",
    "exp = [-1.224744871391589, 0.0, 1.224744871391589]"
   ]
  },
  {
   "cell_type": "markdown",
   "id": "7f6d160f",
   "metadata": {},
   "source": [
    "## Prueba de integración 1"
   ]
  },
  {
   "cell_type": "code",
   "execution_count": 14,
   "id": "5541c601",
   "metadata": {},
   "outputs": [],
   "source": [
    "prueba = unittest.TestCase"
   ]
  },
  {
   "cell_type": "code",
   "execution_count": 15,
   "id": "cc334a5a",
   "metadata": {},
   "outputs": [
    {
     "data": {
      "text/plain": [
       "<function unittest.case.TestCase.assertAlmostEqual(self, first, second, places=None, msg=None, delta=None)>"
      ]
     },
     "execution_count": 15,
     "metadata": {},
     "output_type": "execute_result"
    }
   ],
   "source": [
    "prueba.assertAlmostEqual"
   ]
  },
  {
   "cell_type": "code",
   "execution_count": 16,
   "id": "a6f3cfcd",
   "metadata": {},
   "outputs": [],
   "source": [
    "class TestIntegration(unittest.TestCase):\n",
    "    def test_normalize_numbers(self):\n",
    "        numbers = [10,20,30]\n",
    "        normalized = normalize_numbers(numbers)\n",
    "        expected = [-1.224744871391589, 0.0, 1.224744871391589]\n",
    "        for n,e in zip(normalized,expected):\n",
    "            self.assertAlmostEqual(n,e)"
   ]
  },
  {
   "cell_type": "code",
   "execution_count": 18,
   "id": "ce3d183e",
   "metadata": {},
   "outputs": [],
   "source": [
    "#if __name__==\"__main__\":\n",
    "#    unittest.main()"
   ]
  },
  {
   "cell_type": "markdown",
   "id": "a553d790",
   "metadata": {},
   "source": [
    "## Prueba de integración 2"
   ]
  },
  {
   "cell_type": "code",
   "execution_count": 19,
   "id": "82d1e1c2",
   "metadata": {},
   "outputs": [],
   "source": [
    "class TestIntegration(unittest.TestCase):\n",
    "    def test_normalize_numbers(self,numbers):\n",
    "        numbers = [10,20,30]\n",
    "        normalized = normalize_numbers(numbers)\n",
    "        x = np.array(numbers).reshape(-1, 1)\n",
    "        Z1 = StandardScaler()\n",
    "        Z1.fit(x)\n",
    "        expected = [float(x) for x in Z1.fit_transform(x)]\n",
    "        for n,e in zip(normalized,expected):\n",
    "            self.assertAlmostEqual(n,e)"
   ]
  },
  {
   "cell_type": "code",
   "execution_count": 20,
   "id": "de4c9432",
   "metadata": {},
   "outputs": [],
   "source": [
    "#if __name__==\"__main__\":\n",
    "#    unittest.main()"
   ]
  },
  {
   "cell_type": "markdown",
   "id": "21364877",
   "metadata": {},
   "source": [
    "## Sistema"
   ]
  },
  {
   "cell_type": "code",
   "execution_count": 21,
   "id": "7d3106b9",
   "metadata": {},
   "outputs": [],
   "source": [
    "import numpy as np\n",
    "import pandas as pd\n",
    "from sklearn.datasets import load_iris\n",
    "from sklearn.preprocessing import StandardScaler\n",
    "from sklearn.linear_model import LogisticRegression\n",
    "from sklearn.metrics import accuracy_score\n",
    "from sklearn.model_selection import train_test_split"
   ]
  },
  {
   "cell_type": "code",
   "execution_count": 22,
   "id": "ea7d1c06",
   "metadata": {},
   "outputs": [],
   "source": [
    "class MLSystem:\n",
    "    def __init__(self):\n",
    "        pass\n",
    "    \n",
    "    def load_data(self):\n",
    "        data = load_iris()\n",
    "        return data.data, data.target\n",
    "    \n",
    "    def preprocess_data(self,X):\n",
    "        scaler = StandardScaler().fit(X)\n",
    "        return scaler, scaler.transform(X)\n",
    "    \n",
    "    def train_model(self,X,y):\n",
    "        model = LogisticRegression(random_state=42)\n",
    "        model.fit(X,y)\n",
    "        return model\n",
    "    \n",
    "    def evaluate_model(self,model,X,y):\n",
    "        predictions = model.predict(X)\n",
    "        return accuracy_score(y,predictions)\n",
    "    \n",
    "    def run_entire_work_flow(self,input_data_path):\n",
    "        try:\n",
    "            X, y = self.load_data()\n",
    "            X_train, X_test, y_train, y_test = train_test_split(X,y,test_size=0.3)\n",
    "            scaler, X_train_scaled = self.preprocess_data(X_train)\n",
    "            model = self.train_model(X_train_scaled,y_train)\n",
    "            X_test_scaled = scaler.transform(X_test)\n",
    "            accuracy = self.evaluate_model(model,X_test_scaled,y_test)\n",
    "            return {'success':True,'accuracy':accuracy}\n",
    "        except Exception as e:\n",
    "            return {'success':False,'message':str(e)}"
   ]
  },
  {
   "cell_type": "code",
   "execution_count": 30,
   "id": "f2119689",
   "metadata": {},
   "outputs": [
    {
     "data": {
      "text/plain": [
       "{'success': True, 'accuracy': 0.9111111111111111}"
      ]
     },
     "execution_count": 30,
     "metadata": {},
     "output_type": "execute_result"
    }
   ],
   "source": [
    "sistema = MLSystem()\n",
    "sistema.run_entire_work_flow(None)"
   ]
  },
  {
   "cell_type": "code",
   "execution_count": 23,
   "id": "95a68bc5",
   "metadata": {},
   "outputs": [],
   "source": [
    "salida = {'success':True,'accuracy':0.7}"
   ]
  },
  {
   "cell_type": "code",
   "execution_count": 24,
   "id": "2cbfb3a9",
   "metadata": {},
   "outputs": [
    {
     "data": {
      "text/plain": [
       "True"
      ]
     },
     "execution_count": 24,
     "metadata": {},
     "output_type": "execute_result"
    }
   ],
   "source": [
    "salida[\"success\"]"
   ]
  },
  {
   "cell_type": "code",
   "execution_count": 25,
   "id": "0a026f1d",
   "metadata": {},
   "outputs": [
    {
     "data": {
      "text/plain": [
       "0.7"
      ]
     },
     "execution_count": 25,
     "metadata": {},
     "output_type": "execute_result"
    }
   ],
   "source": [
    "salida[\"accuracy\"]"
   ]
  },
  {
   "cell_type": "code",
   "execution_count": 26,
   "id": "e95d4473",
   "metadata": {},
   "outputs": [],
   "source": [
    "import unittest"
   ]
  },
  {
   "cell_type": "code",
   "execution_count": 28,
   "id": "8eebe320",
   "metadata": {},
   "outputs": [],
   "source": [
    "class TestMLSystem(unittest.TestCase):\n",
    "    def test_entire_work_flow(self):\n",
    "        system = MLSystem()\n",
    "        result = system.run_entire_work_flow(None)\n",
    "        self.assertTrue(result[\"success\"],\"The ML system workflow should have be completed...\")\n",
    "        self.assertGreater(result[\"accuracy\"],0.7,\"The model accuracy be above 0.7\")\n",
    "        \n",
    "#if __name__ == \"__main__\":\n",
    "#    unittest.main()"
   ]
  },
  {
   "cell_type": "code",
   "execution_count": null,
   "id": "3413e7a4",
   "metadata": {},
   "outputs": [],
   "source": []
  }
 ],
 "metadata": {
  "kernelspec": {
   "display_name": "Python 3",
   "language": "python",
   "name": "python3"
  },
  "language_info": {
   "codemirror_mode": {
    "name": "ipython",
    "version": 3
   },
   "file_extension": ".py",
   "mimetype": "text/x-python",
   "name": "python",
   "nbconvert_exporter": "python",
   "pygments_lexer": "ipython3",
   "version": "3.7.6"
  }
 },
 "nbformat": 4,
 "nbformat_minor": 5
}
