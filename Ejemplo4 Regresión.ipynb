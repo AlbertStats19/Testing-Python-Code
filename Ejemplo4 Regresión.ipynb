{
 "cells": [
  {
   "cell_type": "code",
   "execution_count": 2,
   "id": "131fc958",
   "metadata": {},
   "outputs": [],
   "source": [
    "from sklearn.linear_model import LinearRegression\n",
    "import pandas as pd\n",
    "import numpy as np"
   ]
  },
  {
   "cell_type": "markdown",
   "id": "0d630f6c",
   "metadata": {},
   "source": [
    "## Simulación dataset"
   ]
  },
  {
   "cell_type": "code",
   "execution_count": 3,
   "id": "38282ad6",
   "metadata": {},
   "outputs": [],
   "source": [
    "class dataset:\n",
    "    def __init__(self,n,beta0,beta1):\n",
    "        self.n = n\n",
    "        self.beta0 = beta0\n",
    "        self.beta1 = beta1\n",
    "        self.X = None\n",
    "        self.y = None\n",
    "        self.df = None\n",
    "    \n",
    "    def generate(self):\n",
    "        self.X = np.random.normal(500,100,self.n)\n",
    "        self.y = self.beta0 + self.beta1 * self.X + np.random.normal(0,5,self.n)\n",
    "        \n",
    "    def data_(self):\n",
    "        self.df = pd.DataFrame({'X':self.X,'y':self.y})"
   ]
  },
  {
   "cell_type": "code",
   "execution_count": 4,
   "id": "f6c8239d",
   "metadata": {},
   "outputs": [],
   "source": [
    "pb = dataset(n=500,beta0=150,beta1=25)\n",
    "pb.generate()\n",
    "pb.data_()"
   ]
  },
  {
   "cell_type": "code",
   "execution_count": 5,
   "id": "53f4200b",
   "metadata": {},
   "outputs": [
    {
     "data": {
      "text/html": [
       "<div>\n",
       "<style scoped>\n",
       "    .dataframe tbody tr th:only-of-type {\n",
       "        vertical-align: middle;\n",
       "    }\n",
       "\n",
       "    .dataframe tbody tr th {\n",
       "        vertical-align: top;\n",
       "    }\n",
       "\n",
       "    .dataframe thead th {\n",
       "        text-align: right;\n",
       "    }\n",
       "</style>\n",
       "<table border=\"1\" class=\"dataframe\">\n",
       "  <thead>\n",
       "    <tr style=\"text-align: right;\">\n",
       "      <th></th>\n",
       "      <th>X</th>\n",
       "      <th>y</th>\n",
       "      <th>intercept</th>\n",
       "    </tr>\n",
       "  </thead>\n",
       "  <tbody>\n",
       "    <tr>\n",
       "      <th>0</th>\n",
       "      <td>549.344382</td>\n",
       "      <td>13882.807647</td>\n",
       "      <td>1</td>\n",
       "    </tr>\n",
       "    <tr>\n",
       "      <th>1</th>\n",
       "      <td>576.348548</td>\n",
       "      <td>14554.521170</td>\n",
       "      <td>1</td>\n",
       "    </tr>\n",
       "    <tr>\n",
       "      <th>2</th>\n",
       "      <td>350.838824</td>\n",
       "      <td>8920.687761</td>\n",
       "      <td>1</td>\n",
       "    </tr>\n",
       "    <tr>\n",
       "      <th>3</th>\n",
       "      <td>645.001571</td>\n",
       "      <td>16275.049933</td>\n",
       "      <td>1</td>\n",
       "    </tr>\n",
       "    <tr>\n",
       "      <th>4</th>\n",
       "      <td>416.068882</td>\n",
       "      <td>10549.441905</td>\n",
       "      <td>1</td>\n",
       "    </tr>\n",
       "  </tbody>\n",
       "</table>\n",
       "</div>"
      ],
      "text/plain": [
       "            X             y  intercept\n",
       "0  549.344382  13882.807647          1\n",
       "1  576.348548  14554.521170          1\n",
       "2  350.838824   8920.687761          1\n",
       "3  645.001571  16275.049933          1\n",
       "4  416.068882  10549.441905          1"
      ]
     },
     "execution_count": 5,
     "metadata": {},
     "output_type": "execute_result"
    }
   ],
   "source": [
    "df = pb.df\n",
    "df[\"intercept\"] = 1\n",
    "df.head(5)"
   ]
  },
  {
   "cell_type": "markdown",
   "id": "83376e05",
   "metadata": {},
   "source": [
    "## Regresión Lineal simple"
   ]
  },
  {
   "cell_type": "code",
   "execution_count": 6,
   "id": "c1b978f4",
   "metadata": {},
   "outputs": [
    {
     "data": {
      "text/plain": [
       "LinearRegression(fit_intercept=False)"
      ]
     },
     "execution_count": 6,
     "metadata": {},
     "output_type": "execute_result"
    }
   ],
   "source": [
    "model1 = LinearRegression(fit_intercept=False)\n",
    "X = df.get([\"intercept\",\"X\"])\n",
    "y = df.get([\"y\"]).to_numpy()\n",
    "model1.fit(X,y)"
   ]
  },
  {
   "cell_type": "markdown",
   "id": "e025dc9b",
   "metadata": {},
   "source": [
    "## RMSE"
   ]
  },
  {
   "cell_type": "code",
   "execution_count": 7,
   "id": "81542e77",
   "metadata": {},
   "outputs": [
    {
     "data": {
      "text/plain": [
       "4.693531582790669"
      ]
     },
     "execution_count": 7,
     "metadata": {},
     "output_type": "execute_result"
    }
   ],
   "source": [
    "yhat = model1.predict(X)\n",
    "\n",
    "def RMSE(ytrue,yhat):\n",
    "    return np.sqrt(np.mean((ytrue - yhat)**2))\n",
    "\n",
    "RMSE(y,yhat)"
   ]
  },
  {
   "cell_type": "markdown",
   "id": "fedbe6f1",
   "metadata": {},
   "source": [
    "## Coeficientes"
   ]
  },
  {
   "cell_type": "code",
   "execution_count": 8,
   "id": "7466bc05",
   "metadata": {},
   "outputs": [
    {
     "data": {
      "text/plain": [
       "array([[149.8740069 ,  25.00008953]])"
      ]
     },
     "execution_count": 8,
     "metadata": {},
     "output_type": "execute_result"
    }
   ],
   "source": [
    "model1.coef_"
   ]
  },
  {
   "cell_type": "markdown",
   "id": "3daadd1e",
   "metadata": {},
   "source": [
    "## Métodos y pasos secuenciales"
   ]
  },
  {
   "cell_type": "code",
   "execution_count": 9,
   "id": "2dacfb2f",
   "metadata": {},
   "outputs": [
    {
     "data": {
      "text/plain": [
       "False"
      ]
     },
     "execution_count": 9,
     "metadata": {},
     "output_type": "execute_result"
    }
   ],
   "source": [
    "model1 = LinearRegression()\n",
    "try:\n",
    "    model1.coef_\n",
    "    a = True\n",
    "except AttributeError:\n",
    "    a = False\n",
    "a"
   ]
  },
  {
   "cell_type": "markdown",
   "id": "984cb848",
   "metadata": {},
   "source": [
    "## Class regresión y RMSE"
   ]
  },
  {
   "cell_type": "code",
   "execution_count": 87,
   "id": "b7a7e28f",
   "metadata": {},
   "outputs": [],
   "source": [
    "class LinearReg:\n",
    "    def __init__(self):\n",
    "        self.model = LinearRegression(fit_intercept=False)\n",
    "        self.yhat = None\n",
    "    \n",
    "    def fit(self,X,y):\n",
    "        self.model.fit(X,y)\n",
    "    \n",
    "    def predict(self,X):\n",
    "        if hasattr(self.model, 'coef_'):\n",
    "            self.yhat = self.model.predict(X)\n",
    "            return self.yhat\n",
    "        else:\n",
    "            return f\"Entrene el modelo\"\n",
    "    \n",
    "    def error(self,ytrue):\n",
    "        if self.yhat is None:\n",
    "            return f\"Entrene el modelo\"\n",
    "        else:\n",
    "            return RMSE(ytrue,self.yhat)"
   ]
  },
  {
   "cell_type": "markdown",
   "id": "a792a646",
   "metadata": {},
   "source": [
    "## Prueba 1"
   ]
  },
  {
   "cell_type": "code",
   "execution_count": 88,
   "id": "d81ac18b",
   "metadata": {},
   "outputs": [],
   "source": [
    "m1 = LinearReg()\n",
    "m1.fit(X,y)"
   ]
  },
  {
   "cell_type": "code",
   "execution_count": 89,
   "id": "d5653bb9",
   "metadata": {},
   "outputs": [
    {
     "data": {
      "text/plain": [
       "array([[149.8740069 ,  25.00008953]])"
      ]
     },
     "execution_count": 89,
     "metadata": {},
     "output_type": "execute_result"
    }
   ],
   "source": [
    "m1.model.coef_"
   ]
  },
  {
   "cell_type": "code",
   "execution_count": 90,
   "id": "33b14a21",
   "metadata": {},
   "outputs": [
    {
     "data": {
      "text/html": [
       "<div>\n",
       "<style scoped>\n",
       "    .dataframe tbody tr th:only-of-type {\n",
       "        vertical-align: middle;\n",
       "    }\n",
       "\n",
       "    .dataframe tbody tr th {\n",
       "        vertical-align: top;\n",
       "    }\n",
       "\n",
       "    .dataframe thead th {\n",
       "        text-align: right;\n",
       "    }\n",
       "</style>\n",
       "<table border=\"1\" class=\"dataframe\">\n",
       "  <thead>\n",
       "    <tr style=\"text-align: right;\">\n",
       "      <th></th>\n",
       "      <th>yhat</th>\n",
       "    </tr>\n",
       "  </thead>\n",
       "  <tbody>\n",
       "    <tr>\n",
       "      <th>0</th>\n",
       "      <td>13883.532734</td>\n",
       "    </tr>\n",
       "    <tr>\n",
       "      <th>1</th>\n",
       "      <td>14558.639309</td>\n",
       "    </tr>\n",
       "    <tr>\n",
       "      <th>2</th>\n",
       "      <td>8920.876021</td>\n",
       "    </tr>\n",
       "    <tr>\n",
       "      <th>3</th>\n",
       "      <td>16274.971023</td>\n",
       "    </tr>\n",
       "    <tr>\n",
       "      <th>4</th>\n",
       "      <td>10551.633311</td>\n",
       "    </tr>\n",
       "  </tbody>\n",
       "</table>\n",
       "</div>"
      ],
      "text/plain": [
       "           yhat\n",
       "0  13883.532734\n",
       "1  14558.639309\n",
       "2   8920.876021\n",
       "3  16274.971023\n",
       "4  10551.633311"
      ]
     },
     "execution_count": 90,
     "metadata": {},
     "output_type": "execute_result"
    }
   ],
   "source": [
    "yhat = m1.predict(X)\n",
    "pd.DataFrame({'yhat':[float(x) for x in yhat]}).head()"
   ]
  },
  {
   "cell_type": "code",
   "execution_count": 91,
   "id": "5d70e7b3",
   "metadata": {},
   "outputs": [
    {
     "data": {
      "text/plain": [
       "4.693531582790669"
      ]
     },
     "execution_count": 91,
     "metadata": {},
     "output_type": "execute_result"
    }
   ],
   "source": [
    "m1.error(y)"
   ]
  },
  {
   "cell_type": "markdown",
   "id": "1231cdc4",
   "metadata": {},
   "source": [
    "## prueba 2"
   ]
  },
  {
   "cell_type": "code",
   "execution_count": 92,
   "id": "9565f605",
   "metadata": {},
   "outputs": [
    {
     "data": {
      "text/plain": [
       "'Entrene el modelo'"
      ]
     },
     "execution_count": 92,
     "metadata": {},
     "output_type": "execute_result"
    }
   ],
   "source": [
    "m2 = LinearReg()\n",
    "m2.predict(X)"
   ]
  },
  {
   "cell_type": "code",
   "execution_count": 94,
   "id": "870766a0",
   "metadata": {},
   "outputs": [
    {
     "data": {
      "text/plain": [
       "'Entrene el modelo'"
      ]
     },
     "execution_count": 94,
     "metadata": {},
     "output_type": "execute_result"
    }
   ],
   "source": [
    "m2.error(y)"
   ]
  },
  {
   "cell_type": "code",
   "execution_count": null,
   "id": "c300f553",
   "metadata": {},
   "outputs": [],
   "source": []
  }
 ],
 "metadata": {
  "kernelspec": {
   "display_name": "Python 3",
   "language": "python",
   "name": "python3"
  },
  "language_info": {
   "codemirror_mode": {
    "name": "ipython",
    "version": 3
   },
   "file_extension": ".py",
   "mimetype": "text/x-python",
   "name": "python",
   "nbconvert_exporter": "python",
   "pygments_lexer": "ipython3",
   "version": "3.7.6"
  }
 },
 "nbformat": 4,
 "nbformat_minor": 5
}
